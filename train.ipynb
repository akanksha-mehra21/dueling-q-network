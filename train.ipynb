{
 "cells": [
  {
   "cell_type": "code",
   "execution_count": 1,
   "metadata": {
    "collapsed": true
   },
   "outputs": [],
   "source": [
    "import tensorflow as tf\n",
    "import gym \n",
    "import import_ipynb"
   ]
  },
  {
   "cell_type": "code",
   "execution_count": 2,
   "metadata": {
    "collapsed": false
   },
   "outputs": [
    {
     "name": "stdout",
     "output_type": "stream",
     "text": [
      "importing Jupyter notebook from agent.ipynb\n",
      "importing Jupyter notebook from memory.ipynb\n"
     ]
    }
   ],
   "source": [
    "from agent import DQNAgent"
   ]
  },
  {
   "cell_type": "code",
   "execution_count": null,
   "metadata": {
    "collapsed": false
   },
   "outputs": [
    {
     "name": "stdout",
     "output_type": "stream",
     "text": [
      "Episode 0 mean reward: 20.42\n",
      "Episode 1 mean reward: 21.33\n",
      "Episode 2 mean reward: 22.66\n",
      "Episode 3 mean reward: 23.21\n",
      "Episode 4 mean reward: 20.08\n",
      "Episode 5 mean reward: 22.43\n",
      "Episode 6 mean reward: 23.49\n",
      "Episode 7 mean reward: 23.05\n",
      "Episode 8 mean reward: 20.2\n",
      "Episode 9 mean reward: 22.81\n",
      "Episode 10 mean reward: 20.27\n",
      "Episode 11 mean reward: 22.48\n",
      "Episode 12 mean reward: 22.61\n",
      "Episode 13 mean reward: 20.47\n",
      "Episode 14 mean reward: 23.75\n",
      "Episode 15 mean reward: 20.28\n",
      "Episode 16 mean reward: 21.35\n",
      "Episode 17 mean reward: 21.95\n",
      "Episode 18 mean reward: 24.64\n",
      "Episode 19 mean reward: 20.49\n",
      "Episode 20 mean reward: 20.37\n",
      "Episode 21 mean reward: 21.08\n",
      "Episode 22 mean reward: 21.23\n",
      "Episode 23 mean reward: 10.26\n",
      "Episode 24 mean reward: 9.51\n",
      "Episode 25 mean reward: 29.08\n",
      "Episode 26 mean reward: 176.31\n",
      "Episode 27 mean reward: 199.35\n",
      "Episode 28 mean reward: 185.85\n",
      "Episode 29 mean reward: 237.29\n"
     ]
    }
   ],
   "source": [
    "def learn(env, agent, episodes=100, epochs=100, verbose=False):\n",
    "    step = 0\n",
    "    for k in range(episodes):\n",
    "        R = 0\n",
    "        for _ in range(epochs):\n",
    "            s = env.reset()\n",
    "            done = False\n",
    "            \n",
    "            while not done:\n",
    "                \n",
    "                a = agent.act(s)\n",
    "                s_ , r, done, _ = env.step(a)\n",
    "                agent.store_experience([s, [a, r, done], s_])\n",
    "                if agent.is_mem_ready():\n",
    "                    agent.learn()\n",
    "                s = s_\n",
    "                \n",
    "                step += 1\n",
    "                R += r\n",
    "        if verbose: print(\"Episode {} mean reward: {}\".format(k, R/epochs))\n",
    "    \n",
    "tf.reset_default_graph()\n",
    "env = gym.make(\"CartPole-v1\")\n",
    "\n",
    "a = DQNAgent(4, 2)\n",
    "\n",
    "learn(env, a, verbose=True)"
   ]
  },
  {
   "cell_type": "code",
   "execution_count": null,
   "metadata": {
    "collapsed": true
   },
   "outputs": [],
   "source": []
  }
 ],
 "metadata": {
  "anaconda-cloud": {},
  "kernelspec": {
   "display_name": "Python [conda root]",
   "language": "python",
   "name": "conda-root-py"
  },
  "language_info": {
   "codemirror_mode": {
    "name": "ipython",
    "version": 2
   },
   "file_extension": ".py",
   "mimetype": "text/x-python",
   "name": "python",
   "nbconvert_exporter": "python",
   "pygments_lexer": "ipython2",
   "version": "2.7.13"
  }
 },
 "nbformat": 4,
 "nbformat_minor": 2
}
