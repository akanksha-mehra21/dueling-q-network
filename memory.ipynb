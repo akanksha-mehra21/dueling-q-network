{
 "cells": [
  {
   "cell_type": "code",
   "execution_count": 9,
   "metadata": {
    "collapsed": false
   },
   "outputs": [],
   "source": [
    "import numpy as np\n",
    "\n",
    "class Memory(object):\n",
    "\n",
    "    def __init__(self, state_shape, max_size):\n",
    "        self.max_size = max_size\n",
    "        self.idx = 0\n",
    "        self.data = np.zeros((max_size, state_shape*2 + 3), dtype=object)\n",
    "        self.is_ready = False\n",
    "\n",
    "    def add(self, sample):\n",
    "        if self.idx == self.max_size:\n",
    "            self.is_ready = True\n",
    "            self.idx = 0\n",
    "        self.data[self.idx] = np.hstack(sample)\n",
    "        self.idx += 1\n",
    "\n",
    "    def sample(self, batch_size):\n",
    "        return np.random.choice(self.max_size, batch_size)\n",
    "    \n",
    "    def fill(self, mem):\n",
    "        self.data = mem.data.copy()"
   ]
  },
  {
   "cell_type": "code",
   "execution_count": null,
   "metadata": {
    "collapsed": true
   },
   "outputs": [],
   "source": []
  }
 ],
 "metadata": {
  "anaconda-cloud": {},
  "kernelspec": {
   "display_name": "Python [conda root]",
   "language": "python",
   "name": "conda-root-py"
  },
  "language_info": {
   "codemirror_mode": {
    "name": "ipython",
    "version": 2
   },
   "file_extension": ".py",
   "mimetype": "text/x-python",
   "name": "python",
   "nbconvert_exporter": "python",
   "pygments_lexer": "ipython2",
   "version": "2.7.13"
  }
 },
 "nbformat": 4,
 "nbformat_minor": 2
}
